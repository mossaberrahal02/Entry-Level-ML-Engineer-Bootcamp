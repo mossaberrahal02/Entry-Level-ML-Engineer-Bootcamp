{
  "cells": [
    {
      "cell_type": "markdown",
      "metadata": {
        "id": "-F8jP57Uybp1"
      },
      "source": [
        "# WEEK-01\n",
        "Last week, we learned how to code in Python and extract data from websites.\n",
        "\n",
        "Data is like fuel for a car—without it, there is no AI. But having data alone isn’t enough; we need to understand, clean, and prepare it before training our models.\n",
        "\n",
        "This week, we’ll explore new tools and concepts, so be patient and make the most of this learning experience! 🚀\n",
        "and remeber\n",
        "\n",
        "\n",
        "**5 minutes of reading can save you 6 hours of debugging**\n",
        "\n",
        "\n",
        "Please use the dataset included in the subject. You can find it in the [GitHub repository](https://github.com/1337-Artificial-Intelligence/Entry-Level-ML-Engineer-Bootcamp/tree/main/week01/Housing.csv).\n",
        "\n",
        "Good luck! 🤞\n",
        "\n",
        "\n",
        "\n",
        "---\n",
        "\n"
      ]
    },
    {
      "cell_type": "markdown",
      "metadata": {
        "id": "amOY5m_1wd9K"
      },
      "source": [
        "## Exercise-01: Load and Inspect the Dataset\n",
        "\n",
        "The goal of this exercise is to load a dataset and understand its structure.\n",
        "\n",
        "We encourage you to use the Pandas library for this task.\n",
        "To get started, explore the Pandas library by checking its [official documentation:](https://pandas.pydata.org/pandas-docs/stable/user_guide/index.html)\n",
        "\n",
        "### **Instructions**\n",
        "1. Load the dataset into a Pandas DataFrame.\n",
        "2. Print the number of rows in the dataset.\n",
        "\n",
        "\n",
        "### **Open Question**\n",
        "\n",
        ">🙋*What is a DataFrame, and why do we need it?*\n"
      ]
    },
    {
      "cell_type": "code",
      "execution_count": 4,
      "metadata": {
        "id": "oy6SDy0MJ4UO",
        "colab": {
          "base_uri": "https://localhost:8080/"
        },
        "outputId": "c380ec52-fec9-4f39-a0cd-4ec6aed1c566"
      },
      "outputs": [
        {
          "output_type": "stream",
          "name": "stdout",
          "text": [
            "Number of rows in the dataset: 559\n",
            "Number of rows in the dataset: 559\n",
            "Number of rows in the dataset: 558\n"
          ]
        }
      ],
      "source": [
        "import pandas as pd\n",
        "df = pd.read_csv(\"./Housing.csv\")\n",
        "\n",
        "print(\"Number of rows in the dataset:\", len(df.index))\n",
        "print(\"Number of rows in the dataset:\", df.shape[0])\n",
        "print(\"Number of rows in the dataset:\", df[df.columns[0]].count())#number of non NaN values hmmm"
      ]
    },
    {
      "cell_type": "markdown",
      "metadata": {
        "id": "rc_zlJI-MuPM"
      },
      "source": [
        "The output should be:\n",
        "\n",
        "`Number of rows in the dataset: 559`"
      ]
    },
    {
      "cell_type": "markdown",
      "metadata": {
        "id": "Da0JHHbFOEaD"
      },
      "source": [
        "---\n",
        "Now that we have successfully loaded the dataset and counted the number of rows, let's display it.\n",
        "\n",
        "However, when working with large datasets, it's not practical to display everything at once. Instead, let's display only the first 5 rows to get a quick overview! 🚀"
      ]
    },
    {
      "cell_type": "code",
      "execution_count": 8,
      "metadata": {
        "id": "a0SjfYiwQ9hU",
        "colab": {
          "base_uri": "https://localhost:8080/",
          "height": 206
        },
        "outputId": "4c782d2d-e1ec-4198-a0d7-72f7364837b1"
      },
      "outputs": [
        {
          "output_type": "execute_result",
          "data": {
            "text/plain": [
              "        price    area  bedrooms  bathrooms  stories mainroad guestroom  \\\n",
              "0  13300000.0  7420.0         4          2      3.0      yes        no   \n",
              "1  12250000.0  8960.0         4          4      4.0      yes        no   \n",
              "2  12250000.0  9960.0         3          2      2.0      yes        no   \n",
              "3  12215000.0  7500.0         4          2      2.0      yes        no   \n",
              "4  11410000.0  7420.0         4          1      2.0      yes       yes   \n",
              "\n",
              "  basement hotwaterheating airconditioning  parking prefarea furnishingstatus  \n",
              "0       no              no             yes      2.0      yes        furnished  \n",
              "1       no              no             yes      3.0       no        furnished  \n",
              "2      yes              no              no      2.0      yes   semi-furnished  \n",
              "3      yes              no             yes      3.0      yes        furnished  \n",
              "4      yes              no             yes      2.0       no        furnished  "
            ],
            "text/html": [
              "\n",
              "  <div id=\"df-46303825-8e67-402f-ad46-45a970e2477f\" class=\"colab-df-container\">\n",
              "    <div>\n",
              "<style scoped>\n",
              "    .dataframe tbody tr th:only-of-type {\n",
              "        vertical-align: middle;\n",
              "    }\n",
              "\n",
              "    .dataframe tbody tr th {\n",
              "        vertical-align: top;\n",
              "    }\n",
              "\n",
              "    .dataframe thead th {\n",
              "        text-align: right;\n",
              "    }\n",
              "</style>\n",
              "<table border=\"1\" class=\"dataframe\">\n",
              "  <thead>\n",
              "    <tr style=\"text-align: right;\">\n",
              "      <th></th>\n",
              "      <th>price</th>\n",
              "      <th>area</th>\n",
              "      <th>bedrooms</th>\n",
              "      <th>bathrooms</th>\n",
              "      <th>stories</th>\n",
              "      <th>mainroad</th>\n",
              "      <th>guestroom</th>\n",
              "      <th>basement</th>\n",
              "      <th>hotwaterheating</th>\n",
              "      <th>airconditioning</th>\n",
              "      <th>parking</th>\n",
              "      <th>prefarea</th>\n",
              "      <th>furnishingstatus</th>\n",
              "    </tr>\n",
              "  </thead>\n",
              "  <tbody>\n",
              "    <tr>\n",
              "      <th>0</th>\n",
              "      <td>13300000.0</td>\n",
              "      <td>7420.0</td>\n",
              "      <td>4</td>\n",
              "      <td>2</td>\n",
              "      <td>3.0</td>\n",
              "      <td>yes</td>\n",
              "      <td>no</td>\n",
              "      <td>no</td>\n",
              "      <td>no</td>\n",
              "      <td>yes</td>\n",
              "      <td>2.0</td>\n",
              "      <td>yes</td>\n",
              "      <td>furnished</td>\n",
              "    </tr>\n",
              "    <tr>\n",
              "      <th>1</th>\n",
              "      <td>12250000.0</td>\n",
              "      <td>8960.0</td>\n",
              "      <td>4</td>\n",
              "      <td>4</td>\n",
              "      <td>4.0</td>\n",
              "      <td>yes</td>\n",
              "      <td>no</td>\n",
              "      <td>no</td>\n",
              "      <td>no</td>\n",
              "      <td>yes</td>\n",
              "      <td>3.0</td>\n",
              "      <td>no</td>\n",
              "      <td>furnished</td>\n",
              "    </tr>\n",
              "    <tr>\n",
              "      <th>2</th>\n",
              "      <td>12250000.0</td>\n",
              "      <td>9960.0</td>\n",
              "      <td>3</td>\n",
              "      <td>2</td>\n",
              "      <td>2.0</td>\n",
              "      <td>yes</td>\n",
              "      <td>no</td>\n",
              "      <td>yes</td>\n",
              "      <td>no</td>\n",
              "      <td>no</td>\n",
              "      <td>2.0</td>\n",
              "      <td>yes</td>\n",
              "      <td>semi-furnished</td>\n",
              "    </tr>\n",
              "    <tr>\n",
              "      <th>3</th>\n",
              "      <td>12215000.0</td>\n",
              "      <td>7500.0</td>\n",
              "      <td>4</td>\n",
              "      <td>2</td>\n",
              "      <td>2.0</td>\n",
              "      <td>yes</td>\n",
              "      <td>no</td>\n",
              "      <td>yes</td>\n",
              "      <td>no</td>\n",
              "      <td>yes</td>\n",
              "      <td>3.0</td>\n",
              "      <td>yes</td>\n",
              "      <td>furnished</td>\n",
              "    </tr>\n",
              "    <tr>\n",
              "      <th>4</th>\n",
              "      <td>11410000.0</td>\n",
              "      <td>7420.0</td>\n",
              "      <td>4</td>\n",
              "      <td>1</td>\n",
              "      <td>2.0</td>\n",
              "      <td>yes</td>\n",
              "      <td>yes</td>\n",
              "      <td>yes</td>\n",
              "      <td>no</td>\n",
              "      <td>yes</td>\n",
              "      <td>2.0</td>\n",
              "      <td>no</td>\n",
              "      <td>furnished</td>\n",
              "    </tr>\n",
              "  </tbody>\n",
              "</table>\n",
              "</div>\n",
              "    <div class=\"colab-df-buttons\">\n",
              "\n",
              "  <div class=\"colab-df-container\">\n",
              "    <button class=\"colab-df-convert\" onclick=\"convertToInteractive('df-46303825-8e67-402f-ad46-45a970e2477f')\"\n",
              "            title=\"Convert this dataframe to an interactive table.\"\n",
              "            style=\"display:none;\">\n",
              "\n",
              "  <svg xmlns=\"http://www.w3.org/2000/svg\" height=\"24px\" viewBox=\"0 -960 960 960\">\n",
              "    <path d=\"M120-120v-720h720v720H120Zm60-500h600v-160H180v160Zm220 220h160v-160H400v160Zm0 220h160v-160H400v160ZM180-400h160v-160H180v160Zm440 0h160v-160H620v160ZM180-180h160v-160H180v160Zm440 0h160v-160H620v160Z\"/>\n",
              "  </svg>\n",
              "    </button>\n",
              "\n",
              "  <style>\n",
              "    .colab-df-container {\n",
              "      display:flex;\n",
              "      gap: 12px;\n",
              "    }\n",
              "\n",
              "    .colab-df-convert {\n",
              "      background-color: #E8F0FE;\n",
              "      border: none;\n",
              "      border-radius: 50%;\n",
              "      cursor: pointer;\n",
              "      display: none;\n",
              "      fill: #1967D2;\n",
              "      height: 32px;\n",
              "      padding: 0 0 0 0;\n",
              "      width: 32px;\n",
              "    }\n",
              "\n",
              "    .colab-df-convert:hover {\n",
              "      background-color: #E2EBFA;\n",
              "      box-shadow: 0px 1px 2px rgba(60, 64, 67, 0.3), 0px 1px 3px 1px rgba(60, 64, 67, 0.15);\n",
              "      fill: #174EA6;\n",
              "    }\n",
              "\n",
              "    .colab-df-buttons div {\n",
              "      margin-bottom: 4px;\n",
              "    }\n",
              "\n",
              "    [theme=dark] .colab-df-convert {\n",
              "      background-color: #3B4455;\n",
              "      fill: #D2E3FC;\n",
              "    }\n",
              "\n",
              "    [theme=dark] .colab-df-convert:hover {\n",
              "      background-color: #434B5C;\n",
              "      box-shadow: 0px 1px 3px 1px rgba(0, 0, 0, 0.15);\n",
              "      filter: drop-shadow(0px 1px 2px rgba(0, 0, 0, 0.3));\n",
              "      fill: #FFFFFF;\n",
              "    }\n",
              "  </style>\n",
              "\n",
              "    <script>\n",
              "      const buttonEl =\n",
              "        document.querySelector('#df-46303825-8e67-402f-ad46-45a970e2477f button.colab-df-convert');\n",
              "      buttonEl.style.display =\n",
              "        google.colab.kernel.accessAllowed ? 'block' : 'none';\n",
              "\n",
              "      async function convertToInteractive(key) {\n",
              "        const element = document.querySelector('#df-46303825-8e67-402f-ad46-45a970e2477f');\n",
              "        const dataTable =\n",
              "          await google.colab.kernel.invokeFunction('convertToInteractive',\n",
              "                                                    [key], {});\n",
              "        if (!dataTable) return;\n",
              "\n",
              "        const docLinkHtml = 'Like what you see? Visit the ' +\n",
              "          '<a target=\"_blank\" href=https://colab.research.google.com/notebooks/data_table.ipynb>data table notebook</a>'\n",
              "          + ' to learn more about interactive tables.';\n",
              "        element.innerHTML = '';\n",
              "        dataTable['output_type'] = 'display_data';\n",
              "        await google.colab.output.renderOutput(dataTable, element);\n",
              "        const docLink = document.createElement('div');\n",
              "        docLink.innerHTML = docLinkHtml;\n",
              "        element.appendChild(docLink);\n",
              "      }\n",
              "    </script>\n",
              "  </div>\n",
              "\n",
              "\n",
              "<div id=\"df-25a1bdf1-d127-435e-b400-f003b892accb\">\n",
              "  <button class=\"colab-df-quickchart\" onclick=\"quickchart('df-25a1bdf1-d127-435e-b400-f003b892accb')\"\n",
              "            title=\"Suggest charts\"\n",
              "            style=\"display:none;\">\n",
              "\n",
              "<svg xmlns=\"http://www.w3.org/2000/svg\" height=\"24px\"viewBox=\"0 0 24 24\"\n",
              "     width=\"24px\">\n",
              "    <g>\n",
              "        <path d=\"M19 3H5c-1.1 0-2 .9-2 2v14c0 1.1.9 2 2 2h14c1.1 0 2-.9 2-2V5c0-1.1-.9-2-2-2zM9 17H7v-7h2v7zm4 0h-2V7h2v10zm4 0h-2v-4h2v4z\"/>\n",
              "    </g>\n",
              "</svg>\n",
              "  </button>\n",
              "\n",
              "<style>\n",
              "  .colab-df-quickchart {\n",
              "      --bg-color: #E8F0FE;\n",
              "      --fill-color: #1967D2;\n",
              "      --hover-bg-color: #E2EBFA;\n",
              "      --hover-fill-color: #174EA6;\n",
              "      --disabled-fill-color: #AAA;\n",
              "      --disabled-bg-color: #DDD;\n",
              "  }\n",
              "\n",
              "  [theme=dark] .colab-df-quickchart {\n",
              "      --bg-color: #3B4455;\n",
              "      --fill-color: #D2E3FC;\n",
              "      --hover-bg-color: #434B5C;\n",
              "      --hover-fill-color: #FFFFFF;\n",
              "      --disabled-bg-color: #3B4455;\n",
              "      --disabled-fill-color: #666;\n",
              "  }\n",
              "\n",
              "  .colab-df-quickchart {\n",
              "    background-color: var(--bg-color);\n",
              "    border: none;\n",
              "    border-radius: 50%;\n",
              "    cursor: pointer;\n",
              "    display: none;\n",
              "    fill: var(--fill-color);\n",
              "    height: 32px;\n",
              "    padding: 0;\n",
              "    width: 32px;\n",
              "  }\n",
              "\n",
              "  .colab-df-quickchart:hover {\n",
              "    background-color: var(--hover-bg-color);\n",
              "    box-shadow: 0 1px 2px rgba(60, 64, 67, 0.3), 0 1px 3px 1px rgba(60, 64, 67, 0.15);\n",
              "    fill: var(--button-hover-fill-color);\n",
              "  }\n",
              "\n",
              "  .colab-df-quickchart-complete:disabled,\n",
              "  .colab-df-quickchart-complete:disabled:hover {\n",
              "    background-color: var(--disabled-bg-color);\n",
              "    fill: var(--disabled-fill-color);\n",
              "    box-shadow: none;\n",
              "  }\n",
              "\n",
              "  .colab-df-spinner {\n",
              "    border: 2px solid var(--fill-color);\n",
              "    border-color: transparent;\n",
              "    border-bottom-color: var(--fill-color);\n",
              "    animation:\n",
              "      spin 1s steps(1) infinite;\n",
              "  }\n",
              "\n",
              "  @keyframes spin {\n",
              "    0% {\n",
              "      border-color: transparent;\n",
              "      border-bottom-color: var(--fill-color);\n",
              "      border-left-color: var(--fill-color);\n",
              "    }\n",
              "    20% {\n",
              "      border-color: transparent;\n",
              "      border-left-color: var(--fill-color);\n",
              "      border-top-color: var(--fill-color);\n",
              "    }\n",
              "    30% {\n",
              "      border-color: transparent;\n",
              "      border-left-color: var(--fill-color);\n",
              "      border-top-color: var(--fill-color);\n",
              "      border-right-color: var(--fill-color);\n",
              "    }\n",
              "    40% {\n",
              "      border-color: transparent;\n",
              "      border-right-color: var(--fill-color);\n",
              "      border-top-color: var(--fill-color);\n",
              "    }\n",
              "    60% {\n",
              "      border-color: transparent;\n",
              "      border-right-color: var(--fill-color);\n",
              "    }\n",
              "    80% {\n",
              "      border-color: transparent;\n",
              "      border-right-color: var(--fill-color);\n",
              "      border-bottom-color: var(--fill-color);\n",
              "    }\n",
              "    90% {\n",
              "      border-color: transparent;\n",
              "      border-bottom-color: var(--fill-color);\n",
              "    }\n",
              "  }\n",
              "</style>\n",
              "\n",
              "  <script>\n",
              "    async function quickchart(key) {\n",
              "      const quickchartButtonEl =\n",
              "        document.querySelector('#' + key + ' button');\n",
              "      quickchartButtonEl.disabled = true;  // To prevent multiple clicks.\n",
              "      quickchartButtonEl.classList.add('colab-df-spinner');\n",
              "      try {\n",
              "        const charts = await google.colab.kernel.invokeFunction(\n",
              "            'suggestCharts', [key], {});\n",
              "      } catch (error) {\n",
              "        console.error('Error during call to suggestCharts:', error);\n",
              "      }\n",
              "      quickchartButtonEl.classList.remove('colab-df-spinner');\n",
              "      quickchartButtonEl.classList.add('colab-df-quickchart-complete');\n",
              "    }\n",
              "    (() => {\n",
              "      let quickchartButtonEl =\n",
              "        document.querySelector('#df-25a1bdf1-d127-435e-b400-f003b892accb button');\n",
              "      quickchartButtonEl.style.display =\n",
              "        google.colab.kernel.accessAllowed ? 'block' : 'none';\n",
              "    })();\n",
              "  </script>\n",
              "</div>\n",
              "\n",
              "    </div>\n",
              "  </div>\n"
            ],
            "application/vnd.google.colaboratory.intrinsic+json": {
              "type": "dataframe",
              "variable_name": "df",
              "summary": "{\n  \"name\": \"df\",\n  \"rows\": 559,\n  \"fields\": [\n    {\n      \"column\": \"price\",\n      \"properties\": {\n        \"dtype\": \"number\",\n        \"std\": 1885782.8136357423,\n        \"min\": 1750000.0,\n        \"max\": 13300000.0,\n        \"num_unique_values\": 220,\n        \"samples\": [\n          4340000.0,\n          3990000.0,\n          5320000.0\n        ],\n        \"semantic_type\": \"\",\n        \"description\": \"\"\n      }\n    },\n    {\n      \"column\": \"area\",\n      \"properties\": {\n        \"dtype\": \"number\",\n        \"std\": 2157.2861479209846,\n        \"min\": 1650.0,\n        \"max\": 16200.0,\n        \"num_unique_values\": 284,\n        \"samples\": [\n          6000.0,\n          2684.0,\n          5360.0\n        ],\n        \"semantic_type\": \"\",\n        \"description\": \"\"\n      }\n    },\n    {\n      \"column\": \"bedrooms\",\n      \"properties\": {\n        \"dtype\": \"number\",\n        \"std\": 0,\n        \"min\": 1,\n        \"max\": 6,\n        \"num_unique_values\": 6,\n        \"samples\": [\n          4,\n          3,\n          1\n        ],\n        \"semantic_type\": \"\",\n        \"description\": \"\"\n      }\n    },\n    {\n      \"column\": \"bathrooms\",\n      \"properties\": {\n        \"dtype\": \"number\",\n        \"std\": 0,\n        \"min\": 1,\n        \"max\": 4,\n        \"num_unique_values\": 4,\n        \"samples\": [\n          4,\n          3,\n          2\n        ],\n        \"semantic_type\": \"\",\n        \"description\": \"\"\n      }\n    },\n    {\n      \"column\": \"stories\",\n      \"properties\": {\n        \"dtype\": \"number\",\n        \"std\": 0.8724463900947513,\n        \"min\": 1.0,\n        \"max\": 4.0,\n        \"num_unique_values\": 4,\n        \"samples\": [\n          4.0,\n          1.0,\n          3.0\n        ],\n        \"semantic_type\": \"\",\n        \"description\": \"\"\n      }\n    },\n    {\n      \"column\": \"mainroad\",\n      \"properties\": {\n        \"dtype\": \"category\",\n        \"num_unique_values\": 2,\n        \"samples\": [\n          \"no\",\n          \"yes\"\n        ],\n        \"semantic_type\": \"\",\n        \"description\": \"\"\n      }\n    },\n    {\n      \"column\": \"guestroom\",\n      \"properties\": {\n        \"dtype\": \"category\",\n        \"num_unique_values\": 2,\n        \"samples\": [\n          \"yes\",\n          \"no\"\n        ],\n        \"semantic_type\": \"\",\n        \"description\": \"\"\n      }\n    },\n    {\n      \"column\": \"basement\",\n      \"properties\": {\n        \"dtype\": \"category\",\n        \"num_unique_values\": 2,\n        \"samples\": [\n          \"yes\",\n          \"no\"\n        ],\n        \"semantic_type\": \"\",\n        \"description\": \"\"\n      }\n    },\n    {\n      \"column\": \"hotwaterheating\",\n      \"properties\": {\n        \"dtype\": \"category\",\n        \"num_unique_values\": 2,\n        \"samples\": [\n          \"yes\",\n          \"no\"\n        ],\n        \"semantic_type\": \"\",\n        \"description\": \"\"\n      }\n    },\n    {\n      \"column\": \"airconditioning\",\n      \"properties\": {\n        \"dtype\": \"category\",\n        \"num_unique_values\": 2,\n        \"samples\": [\n          \"no\",\n          \"yes\"\n        ],\n        \"semantic_type\": \"\",\n        \"description\": \"\"\n      }\n    },\n    {\n      \"column\": \"parking\",\n      \"properties\": {\n        \"dtype\": \"number\",\n        \"std\": 0.858981567711406,\n        \"min\": 0.0,\n        \"max\": 3.0,\n        \"num_unique_values\": 4,\n        \"samples\": [\n          3.0,\n          1.0\n        ],\n        \"semantic_type\": \"\",\n        \"description\": \"\"\n      }\n    },\n    {\n      \"column\": \"prefarea\",\n      \"properties\": {\n        \"dtype\": \"category\",\n        \"num_unique_values\": 2,\n        \"samples\": [\n          \"no\",\n          \"yes\"\n        ],\n        \"semantic_type\": \"\",\n        \"description\": \"\"\n      }\n    },\n    {\n      \"column\": \"furnishingstatus\",\n      \"properties\": {\n        \"dtype\": \"category\",\n        \"num_unique_values\": 3,\n        \"samples\": [\n          \"furnished\",\n          \"semi-furnished\"\n        ],\n        \"semantic_type\": \"\",\n        \"description\": \"\"\n      }\n    }\n  ]\n}"
            }
          },
          "metadata": {},
          "execution_count": 8
        }
      ],
      "source": [
        "df.head()"
      ]
    },
    {
      "cell_type": "markdown",
      "metadata": {
        "id": "MYsrJY6LUqAB"
      },
      "source": [
        "The output should be like this\n",
        "\n",
        "\n",
        "\n",
        "```\n",
        "\tprice\tarea\tbedrooms\tbathrooms\tstories\tmainroad\tguestroom\tbasement\thotwaterheating\tairconditioning\tparking\tprefarea\tfurnishingstatus\n",
        "0\t13300000.0\t7420.0\t4\t2\t3.0\tyes\tno\tno\tno\tyes\t2.0\tyes\tfurnished\n",
        "1\t12250000.0\t8960.0\t4\t4\t4.0\tyes\tno\tno\tno\tyes\t3.0\tno\tfurnished\n",
        "2\t12250000.0\t9960.0\t3\t2\t2.0\tyes\tno\tyes\tno\tno\t2.0\tyes\tsemi-furnished\n",
        "3\t12215000.0\t7500.0\t4\t2\t2.0\tyes\tno\tyes\tno\tyes\t3.0\tyes\tfurnished\n",
        "4\t11410000.0\t7420.0\t4\t1\t2.0\tyes\tyes\tyes\tno\tyes\t2.0\tno\tfurnished\n",
        "\n",
        "```\n",
        "\n"
      ]
    },
    {
      "cell_type": "markdown",
      "metadata": {
        "id": "XMgqqFZPWhXA"
      },
      "source": [
        "---\n",
        "Now that we've loaded the dataset and displayed the first few rows, let's dive deeper and understand its structure.\n",
        "To do this, use a function that provides essential details about the dataset, such as:\n",
        "\n",
        "- The number of non-null values in each column\n",
        "- The data types of each column\n",
        "- The total number of entries\n",
        "\n"
      ]
    },
    {
      "cell_type": "code",
      "execution_count": 10,
      "metadata": {
        "id": "90JrJ09PwW7n",
        "colab": {
          "base_uri": "https://localhost:8080/"
        },
        "outputId": "182eb99a-0b1f-4e9b-b688-f665e9d56f52"
      },
      "outputs": [
        {
          "output_type": "stream",
          "name": "stdout",
          "text": [
            "<class 'pandas.core.frame.DataFrame'>\n",
            "RangeIndex: 559 entries, 0 to 558\n",
            "Data columns (total 13 columns):\n",
            " #   Column            Non-Null Count  Dtype  \n",
            "---  ------            --------------  -----  \n",
            " 0   price             558 non-null    float64\n",
            " 1   area              558 non-null    float64\n",
            " 2   bedrooms          559 non-null    int64  \n",
            " 3   bathrooms         559 non-null    int64  \n",
            " 4   stories           557 non-null    float64\n",
            " 5   mainroad          559 non-null    object \n",
            " 6   guestroom         559 non-null    object \n",
            " 7   basement          559 non-null    object \n",
            " 8   hotwaterheating   559 non-null    object \n",
            " 9   airconditioning   557 non-null    object \n",
            " 10  parking           558 non-null    float64\n",
            " 11  prefarea          558 non-null    object \n",
            " 12  furnishingstatus  557 non-null    object \n",
            "dtypes: float64(4), int64(2), object(7)\n",
            "memory usage: 56.9+ KB\n"
          ]
        }
      ],
      "source": [
        "df.info()"
      ]
    },
    {
      "cell_type": "markdown",
      "metadata": {
        "id": "Z9O4aFINbP19"
      },
      "source": [
        "Output format\n",
        "\n",
        "```\n",
        "<class 'pandas.core.frame.DataFrame'>\n",
        "RangeIndex: 559 entries, 0 to 558\n",
        "Data columns (total 13 columns):\n",
        " #   Column            Non-Null Count  Dtype  \n",
        "---  ------            --------------  -----  \n",
        " 0   price             558 non-null    float64\n",
        " 1   area              558 non-null    float64\n",
        " 2   bedrooms          559 non-null    int64  \n",
        " 3   bathrooms         559 non-null    int64  \n",
        " 4   stories           557 non-null    float64\n",
        " 5   mainroad          559 non-null    object\n",
        " 6   guestroom         559 non-null    object\n",
        " 7   basement          559 non-null    object\n",
        " 8   hotwaterheating   559 non-null    object\n",
        " 9   airconditioning   557 non-null    object\n",
        " 10  parking           558 non-null    float64\n",
        " 11  prefarea          558 non-null    object\n",
        " 12  furnishingstatus  557 non-null    object\n",
        "dtypes: float64(4), int64(2), object(7)\n",
        "memory usage: 56.9+ KB\n",
        "```\n",
        "\n"
      ]
    },
    {
      "cell_type": "markdown",
      "metadata": {
        "id": "a03bL1o8clI1"
      },
      "source": [
        "---"
      ]
    },
    {
      "cell_type": "markdown",
      "metadata": {
        "id": "pvc94RSEJ5EG"
      },
      "source": [
        "Before we start processing the dataset, it's important to check if there are any missing values. Missing data can affect model performance and lead to inaccurate results, so identifying and handling them is a key step in data preparation.\n",
        "\n",
        "Try using a method that allows you to see how many missing values exist in each column.\n"
      ]
    },
    {
      "cell_type": "code",
      "execution_count": 17,
      "metadata": {
        "colab": {
          "base_uri": "https://localhost:8080/",
          "height": 492
        },
        "collapsed": true,
        "id": "ePnnjw1AALmR",
        "outputId": "96d7e8fc-2991-4169-dd8d-465129c12643"
      },
      "outputs": [
        {
          "output_type": "execute_result",
          "data": {
            "text/plain": [
              "price               1\n",
              "area                1\n",
              "bedrooms            0\n",
              "bathrooms           0\n",
              "stories             2\n",
              "mainroad            0\n",
              "guestroom           0\n",
              "basement            0\n",
              "hotwaterheating     0\n",
              "airconditioning     2\n",
              "parking             1\n",
              "prefarea            1\n",
              "furnishingstatus    2\n",
              "dtype: int64"
            ],
            "text/html": [
              "<div>\n",
              "<style scoped>\n",
              "    .dataframe tbody tr th:only-of-type {\n",
              "        vertical-align: middle;\n",
              "    }\n",
              "\n",
              "    .dataframe tbody tr th {\n",
              "        vertical-align: top;\n",
              "    }\n",
              "\n",
              "    .dataframe thead th {\n",
              "        text-align: right;\n",
              "    }\n",
              "</style>\n",
              "<table border=\"1\" class=\"dataframe\">\n",
              "  <thead>\n",
              "    <tr style=\"text-align: right;\">\n",
              "      <th></th>\n",
              "      <th>0</th>\n",
              "    </tr>\n",
              "  </thead>\n",
              "  <tbody>\n",
              "    <tr>\n",
              "      <th>price</th>\n",
              "      <td>1</td>\n",
              "    </tr>\n",
              "    <tr>\n",
              "      <th>area</th>\n",
              "      <td>1</td>\n",
              "    </tr>\n",
              "    <tr>\n",
              "      <th>bedrooms</th>\n",
              "      <td>0</td>\n",
              "    </tr>\n",
              "    <tr>\n",
              "      <th>bathrooms</th>\n",
              "      <td>0</td>\n",
              "    </tr>\n",
              "    <tr>\n",
              "      <th>stories</th>\n",
              "      <td>2</td>\n",
              "    </tr>\n",
              "    <tr>\n",
              "      <th>mainroad</th>\n",
              "      <td>0</td>\n",
              "    </tr>\n",
              "    <tr>\n",
              "      <th>guestroom</th>\n",
              "      <td>0</td>\n",
              "    </tr>\n",
              "    <tr>\n",
              "      <th>basement</th>\n",
              "      <td>0</td>\n",
              "    </tr>\n",
              "    <tr>\n",
              "      <th>hotwaterheating</th>\n",
              "      <td>0</td>\n",
              "    </tr>\n",
              "    <tr>\n",
              "      <th>airconditioning</th>\n",
              "      <td>2</td>\n",
              "    </tr>\n",
              "    <tr>\n",
              "      <th>parking</th>\n",
              "      <td>1</td>\n",
              "    </tr>\n",
              "    <tr>\n",
              "      <th>prefarea</th>\n",
              "      <td>1</td>\n",
              "    </tr>\n",
              "    <tr>\n",
              "      <th>furnishingstatus</th>\n",
              "      <td>2</td>\n",
              "    </tr>\n",
              "  </tbody>\n",
              "</table>\n",
              "</div><br><label><b>dtype:</b> int64</label>"
            ]
          },
          "metadata": {},
          "execution_count": 17
        }
      ],
      "source": [
        "df.isnull().sum()"
      ]
    },
    {
      "cell_type": "markdown",
      "metadata": {
        "id": "UNmdK-q4uF0g"
      },
      "source": [
        "Output format\n",
        "\n",
        "\n",
        "```\n",
        "price               1\n",
        "area                1\n",
        "bedrooms            0\n",
        "bathrooms           0\n",
        "stories             2\n",
        "mainroad            0\n",
        "guestroom           0\n",
        "basement            0\n",
        "hotwaterheating     0\n",
        "airconditioning     2\n",
        "parking             1\n",
        "prefarea            1\n",
        "furnishingstatus    2\n",
        "dtype: int64\n",
        "```\n",
        "\n"
      ]
    },
    {
      "cell_type": "markdown",
      "metadata": {
        "id": "97zz0o_dyWLk"
      },
      "source": [
        "---\n",
        "# Exercise 2: Data Cleaning\n",
        "\n",
        "Now that we've identified missing values and inspected our dataset, it's time to clean the data!\n",
        "\n",
        "In this exercise, you'll focus on:\n",
        "\n",
        "Removing or handling missing values\n",
        "Identifying and removing duplicate rows\n",
        "Cleaning data is a crucial step to ensure our model is trained on high-quality, reliable data.\n",
        "### 🙋 Open Question\n",
        "> Why is it important to remove duplicate rows in a dataset?"
      ]
    },
    {
      "cell_type": "code",
      "execution_count": null,
      "metadata": {
        "collapsed": true,
        "id": "SNPcxYR-xOUe"
      },
      "outputs": [],
      "source": [
        "# add your code here"
      ]
    },
    {
      "cell_type": "markdown",
      "metadata": {
        "id": "d0d8POeJweu_"
      },
      "source": [
        "The output should be\n",
        "\n",
        "\n",
        "```\n",
        "\n",
        "price\tarea\tbedrooms\tbathrooms\tstories\tmainroad\tguestroom\tbasement\thotwaterheating\tairconditioning\tparking\tprefarea\tfurnishingstatus\n",
        "0\t13300000.0\t7420.0\t4\t2\t3.0\tyes\tno\tno\tno\tyes\t2.0\tyes\tfurnished\n",
        "1\t12250000.0\t8960.0\t4\t4\t4.0\tyes\tno\tno\tno\tyes\t3.0\tno\tfurnished\n",
        "2\t12250000.0\t9960.0\t3\t2\t2.0\tyes\tno\tyes\tno\tno\t2.0\tyes\tsemi-furnished\n",
        "3\t12215000.0\t7500.0\t4\t2\t2.0\tyes\tno\tyes\tno\tyes\t3.0\tyes\tfurnished\n",
        "4\t11410000.0\t7420.0\t4\t1\t2.0\tyes\tyes\tyes\tno\tyes\t2.0\tno\tfurnished\n",
        "...\t...\t...\t...\t...\t...\t...\t...\t...\t...\t...\t...\t...\t...\n",
        "547\t1820000.0\t3000.0\t2\t1\t1.0\tyes\tno\tyes\tno\tno\t2.0\tno\tunfurnished\n",
        "548\t1767150.0\t2400.0\t3\t1\t1.0\tno\tno\tno\tno\tno\t0.0\tno\tsemi-furnished\n",
        "549\t1750000.0\t3620.0\t2\t1\t1.0\tyes\tno\tno\tno\tno\t0.0\tno\tunfurnished\n",
        "550\t1750000.0\t2910.0\t3\t1\t1.0\tno\tno\tno\tno\tno\t0.0\tno\tfurnished\n",
        "551\t1750000.0\t3850.0\t3\t1\t2.0\tyes\tno\tno\tno\tno\t0.0\tno\tunfurnished\n",
        "544 rows × 13 columns```\n",
        "\n"
      ]
    },
    {
      "cell_type": "markdown",
      "metadata": {
        "id": "2QB2b_pXzsr8"
      },
      "source": [
        "---\n",
        "# Exercice 3 : Descriptive Statistics\n",
        "\n",
        "Now that we have cleaned our dataset, it's time to explore and understand it better using **descriptive statistics**. These statistics help summarize the data and give us insights into its distribution, central tendency, and variability.  \n",
        "\n",
        "### **Your Tasks**  \n",
        "1. Use Pandas to calculate basic statistics such as:  \n",
        "   - Mean, median, and standard deviation of numerical columns.  \n",
        "   - Minimum and maximum values.  \n",
        "   - Count of non-null values in each column.\n",
        "2. Check the distribution of numerical features\n",
        "\n",
        "\n",
        "3.  Show unique values for categorical variables.\n",
        "\n",
        "\n",
        "### 🙋 Open Question\n",
        "> Why do we need descriptive statistics when working with data?\n",
        "\n",
        "🚀 **Let’s analyze our dataset!**\n",
        "\n",
        "###1. Calculate basic statistics"
      ]
    },
    {
      "cell_type": "code",
      "execution_count": null,
      "metadata": {
        "id": "Nf8yRGgP3CD5"
      },
      "outputs": [],
      "source": [
        "# add your code here"
      ]
    },
    {
      "cell_type": "markdown",
      "metadata": {
        "id": "UUTFgZ5a0aBO"
      },
      "source": [
        "*Your* output should be in this format:\n",
        "\n",
        "\n",
        "```\n",
        "Basic Statistics:\n",
        "              price          area    bedrooms   bathrooms     stories  \\\n",
        "count  5.580000e+02    558.000000  559.000000  559.000000  557.000000   \n",
        "mean   4.777083e+06   5135.637993    2.967800    1.288014    1.811490   \n",
        "std    1.885783e+06   2157.286148    0.734969    0.502020    0.872446   \n",
        "min    1.750000e+06   1650.000000    1.000000    1.000000    1.000000   \n",
        "25%    3.438750e+06   3600.000000    2.500000    1.000000    1.000000   \n",
        "50%    4.340000e+06   4515.000000    3.000000    1.000000    2.000000   \n",
        "75%    5.808250e+06   6360.000000    3.000000    2.000000    2.000000   \n",
        "max    1.330000e+07  16200.000000    6.000000    4.000000    4.000000   \n",
        "\n",
        "          parking  \n",
        "count  558.000000  \n",
        "mean     0.691756  \n",
        "std      0.858982  \n",
        "min      0.000000  \n",
        "25%      0.000000  \n",
        "50%      0.000000  \n",
        "75%      1.000000  \n",
        "max      3.000000  \n",
        "\n",
        "```\n",
        "\n"
      ]
    },
    {
      "cell_type": "markdown",
      "metadata": {
        "id": "Y27XCWRl4z1G"
      },
      "source": [
        "###2.Check the distribution of numerical features using:  \n"
      ]
    },
    {
      "cell_type": "code",
      "execution_count": null,
      "metadata": {
        "id": "-D8h4wFL418J"
      },
      "outputs": [],
      "source": [
        "# add your code here"
      ]
    },
    {
      "cell_type": "markdown",
      "metadata": {
        "id": "IGqaMGCZ5BA6"
      },
      "source": [
        "Your output should be in this format:\n",
        "\n",
        "```\n",
        "Distribution of numerical features\n",
        "\n",
        "Value Counts for mainroad:\n",
        "mainroad\n",
        "yes    481\n",
        "no      78\n",
        "Name: count, dtype: int64\n",
        "\n",
        "Value Counts for guestroom:\n",
        "guestroom\n",
        "no     460\n",
        "yes     99\n",
        "Name: count, dtype: int64\n",
        "\n",
        "Value Counts for basement:\n",
        "basement\n",
        "no     365\n",
        "yes    194\n",
        "Name: count, dtype: int64\n",
        "\n",
        "Value Counts for hotwaterheating:\n",
        "hotwaterheating\n",
        "no     533\n",
        "yes     26\n",
        "Name: count, dtype: int64\n",
        "\n",
        "Value Counts for airconditioning:\n",
        "airconditioning\n",
        "no     382\n",
        "yes    175\n",
        "Name: count, dtype: int64\n",
        "\n",
        "Value Counts for prefarea:\n",
        "prefarea\n",
        "no     425\n",
        "yes    133\n",
        "Name: count, dtype: int64\n",
        "\n",
        "Value Counts for furnishingstatus:\n",
        "furnishingstatus\n",
        "semi-furnished    230\n",
        "unfurnished       183\n",
        "furnished         144\n",
        "Name: count, dtype: int64\n",
        "```\n",
        "\n"
      ]
    },
    {
      "cell_type": "markdown",
      "metadata": {
        "id": "PvAoHyxM02vq"
      },
      "source": [
        "###3.Show unique values for categorical variables.\n"
      ]
    },
    {
      "cell_type": "code",
      "execution_count": null,
      "metadata": {
        "id": "lfkJvsAJ0h4G"
      },
      "outputs": [],
      "source": [
        "# add your code here"
      ]
    },
    {
      "cell_type": "markdown",
      "metadata": {
        "id": "LRtso6Iz6QAf"
      },
      "source": [
        "Output format\n",
        "\n",
        "\n",
        "```\n",
        "Unique values in 'mainroad':\n",
        "['yes' 'no']\n",
        "\n",
        "Unique values in 'guestroom':\n",
        "['no' 'yes']\n",
        "\n",
        "Unique values in 'basement':\n",
        "['no' 'yes']\n",
        "\n",
        "Unique values in 'hotwaterheating':\n",
        "['no' 'yes']\n",
        "\n",
        "Unique values in 'airconditioning':\n",
        "['yes' 'no' nan]\n",
        "\n",
        "Unique values in 'prefarea':\n",
        "['yes' 'no' nan]\n",
        "\n",
        "Unique values in 'furnishingstatus':\n",
        "['furnished' 'semi-furnished' 'unfurnished' nan]\n",
        "```\n",
        "\n"
      ]
    },
    {
      "cell_type": "markdown",
      "metadata": {
        "id": "D5J64ijJ1-5n"
      },
      "source": [
        "#Exercise 4: Univariate Analysis**  \n",
        "\n",
        "In this exercise, you'll analyze the distribution of each feature using visualization techniques. Understanding how your data is distributed is crucial for identifying patterns, outliers, and potential preprocessing steps.  \n",
        "\n",
        "### **Tasks**  \n",
        "1️⃣ **Plot histograms** for numerical variables to see their distribution.  \n",
        "2️⃣ **Display boxplots** to detect outliers.  \n",
        "3️⃣ **Plot pie charts** for categorical variables to understand their proportions.  \n",
        "\n",
        "💡 **Hint**: Use **Matplotlib** and **Seaborn** for plotting. You can explore their documentation here:  \n",
        "- [Matplotlib Docs](https://matplotlib.org/)  \n",
        "- [Seaborn Docs](https://seaborn.pydata.org/)  \n",
        "\n",
        "Happy coding! 🚀"
      ]
    },
    {
      "cell_type": "code",
      "execution_count": null,
      "metadata": {
        "id": "R03Q6GyC2JJi"
      },
      "outputs": [],
      "source": [
        "# add your code here"
      ]
    },
    {
      "cell_type": "markdown",
      "metadata": {
        "id": "X-j1RDSk_D6r"
      },
      "source": [
        "🚀🚀🚀🚀🚀🚀🚀🚀🚀🚀🚀🚀🚀🚀🚀\n",
        "\n",
        "**Learning takes time! If things feel challenging, that's completely normal. Be patient, keep exploring, and trust the process—you’re making progress!**\n",
        "\n",
        "🚀🚀🚀🚀🚀🚀🚀🚀🚀🚀🚀🚀🚀🚀🚀"
      ]
    },
    {
      "cell_type": "markdown",
      "metadata": {
        "id": "sQc-34qD3h2q"
      },
      "source": [
        "---\n",
        "#Exercise 5: Bivariate Analysis\n",
        "Now that we have explored individual features, let’s analyze the relationships between two variables. This will help us understand how different features interact with each other.\n",
        "\n",
        "Tasks\n",
        "\n",
        "1️⃣ Scatter plots – Visualize relationships between numerical variables.\n",
        "\n",
        "2️⃣ Correlation heatmap – Identify correlations between numerical features.\n",
        "\n",
        "3️⃣ Boxplots – Compare categorical and numerical variables.\n",
        "\n",
        "💡 Hint: Use Matplotlib and Seaborn for visualization.\n",
        "\n",
        "Scatter plots help detect trends or patterns.\n",
        "The heatmap shows how strongly two numerical variables are related.\n",
        "Boxplots help compare distributions across categories.\n",
        "Let’s dive in! 🚀"
      ]
    },
    {
      "cell_type": "code",
      "execution_count": null,
      "metadata": {
        "id": "aVfrYhJr3lYh"
      },
      "outputs": [],
      "source": [
        "# add your code here"
      ]
    },
    {
      "cell_type": "markdown",
      "metadata": {
        "id": "rEtLuNPvQppw"
      },
      "source": [
        "---\n",
        "#Exercise 6: Multivariate Analysis\n",
        "\n",
        "Now that we've explored relationships between two variables, let's analyze interactions among multiple variables simultaneously. This will help us uncover deeper patterns in the data.\n",
        "\n",
        "Tasks\n",
        "\n",
        "1️⃣ Pairplot – Visualize relationships between multiple numerical variables.\n",
        "\n",
        "2️⃣ Multivariate correlation heatmap – Identify correlations across multiple features.\n",
        "\n",
        "3️⃣ Grouped boxplots – Compare distributions of a numerical variable across multiple categorical variables.\n",
        "\n",
        "💡 Hint:\n",
        "\n",
        "Use Seaborn's pairplot to explore all pairwise relationships.\n",
        "\n",
        "The heatmap helps identify groups of strongly correlated variables.\n",
        "\n",
        "Grouped boxplots provide insights into variations across different categories."
      ]
    },
    {
      "cell_type": "code",
      "execution_count": null,
      "metadata": {
        "id": "uj0OkEkmQt4Y"
      },
      "outputs": [],
      "source": [
        "# add your code here"
      ]
    },
    {
      "cell_type": "markdown",
      "metadata": {
        "id": "lNqPT5KIRLoU"
      },
      "source": [
        "---\n",
        "#Exercise 7: Making new features\n",
        "\n",
        "Feature engineering is a powerful way to improve model performance by adding meaningful information that the machine can't detect on its own.  \n",
        "\n",
        "### **Tasks**  \n",
        "1️⃣ Create **one new feature** based on existing columns.  \n",
        "   - You can **combine** or **split** columns.  \n",
        "   - Extract meaningful insights (e.g., **datetime → morning/evening**, **weekend/weekday**, **text length**, etc.).  \n",
        "\n",
        "2️⃣ Add these new features to your dataset.  \n",
        "\n",
        "\n",
        "3️⃣ Display the first few rows to check the results.  \n",
        "\n",
        "\n",
        "\n",
        "### 🙋 Open Question\n",
        "\n",
        "> How do new features impact machine learning models? Can you think of a real-world example where feature engineering made a big difference?\n",
        "\n",
        "Get creative and enhance your dataset! 🚀"
      ]
    },
    {
      "cell_type": "code",
      "execution_count": null,
      "metadata": {
        "id": "3rIvv4OcRNx3"
      },
      "outputs": [],
      "source": [
        "#add your code here"
      ]
    },
    {
      "cell_type": "markdown",
      "metadata": {
        "id": "A3_CHQ-0RT4c"
      },
      "source": [
        "# **Exercise 8: Preparing Data for Machine Learning**  \n",
        "\n",
        "To make our dataset machine learning-friendly, we need to **convert categorical variables into numerical values** and **scale numerical features** for better model performance.  \n",
        "\n",
        "### **Tasks**  \n",
        "1️⃣ **Convert ordinal categorical variables** into numerical values using **Label Encoding**.  \n",
        "   - Example: `(\"yes\",\"no\") → (1,0)`  \n",
        "   - Example: `(\"very unsatisfied\", \"unsatisfied\", \"neutral\", \"satisfied\", \"very satisfied\") → (0,1,2,3,4)`  \n",
        "\n",
        "2️⃣ **Apply One-Hot Encoding** for **nominal categorical variables** (where order doesn't matter).  \n",
        "\n",
        "3️⃣ **Scale numerical variables** using any scaler (MinMaxScaler, StandardScaler, etc.).  \n",
        "   - Choose the best scaler for your dataset and **justify your choice**.  \n",
        "\n",
        "💡 **Hint**:  \n",
        "- Use **Label Encoding** for categories with an inherent order.  \n",
        "- Use **OneHotEncoding** for categories without order (e.g., colors, cities).  \n",
        "- Scaling helps models **converge faster** and improves **performance**.  \n",
        "\n",
        "### 🙋 Open Question\n",
        "> Why do we need to scale numerical variables? Can you think of a case where scaling isn't necessary?\n",
        "\n",
        "Let's transform our dataset into ML-ready data! 🚀"
      ]
    },
    {
      "cell_type": "markdown",
      "metadata": {
        "id": "dpZdO155_eRI"
      },
      "source": [
        "\n",
        "\n",
        "---\n",
        "\n",
        "## 🎉 Congratulations! You've Completed Week01!  \n",
        "\n",
        "Great job on making it through week 1 of the bootcamp! 🚀 You've learned how to load, clean, and explore data—essential skills for any ML engineer.  \n",
        "\n",
        "Data preprocessing is a crucial step in any machine learning project, and mastering it will set you up for success in the coming weeks.  \n",
        "\n",
        "🔍 **What’s Next?**  \n",
        "Take some time to review what you’ve learned and apply it to different datasets. If you have any questions or got stuck along the way, don’t hesitate to ask in our community!  \n",
        "\n",
        "Stay curious, keep experimenting, and get ready for Week 2! 💡🔥"
      ]
    }
  ],
  "metadata": {
    "colab": {
      "provenance": []
    },
    "kernelspec": {
      "display_name": "Python 3",
      "name": "python3"
    },
    "language_info": {
      "name": "python"
    }
  },
  "nbformat": 4,
  "nbformat_minor": 0
}